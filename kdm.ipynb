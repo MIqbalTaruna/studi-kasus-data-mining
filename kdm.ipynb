{
 "cells": [
  {
   "cell_type": "markdown",
   "id": "improving-function",
   "metadata": {},
   "source": [
    "### Import module yang akan dipakai & menampilkan dataset"
   ]
  },
  {
   "cell_type": "code",
   "execution_count": 1,
   "id": "thermal-lighter",
   "metadata": {
    "scrolled": true
   },
   "outputs": [
    {
     "data": {
      "text/html": [
       "<div>\n",
       "<style scoped>\n",
       "    .dataframe tbody tr th:only-of-type {\n",
       "        vertical-align: middle;\n",
       "    }\n",
       "\n",
       "    .dataframe tbody tr th {\n",
       "        vertical-align: top;\n",
       "    }\n",
       "\n",
       "    .dataframe thead th {\n",
       "        text-align: right;\n",
       "    }\n",
       "</style>\n",
       "<table border=\"1\" class=\"dataframe\">\n",
       "  <thead>\n",
       "    <tr style=\"text-align: right;\">\n",
       "      <th></th>\n",
       "      <th>tahun</th>\n",
       "      <th>bulan</th>\n",
       "      <th>kota_administrasi</th>\n",
       "      <th>kecamatan</th>\n",
       "      <th>penderita_dbd</th>\n",
       "    </tr>\n",
       "  </thead>\n",
       "  <tbody>\n",
       "    <tr>\n",
       "      <th>0</th>\n",
       "      <td>2018</td>\n",
       "      <td>1</td>\n",
       "      <td>Jakarta Pusat</td>\n",
       "      <td>Cempaka Putih</td>\n",
       "      <td>3</td>\n",
       "    </tr>\n",
       "    <tr>\n",
       "      <th>1</th>\n",
       "      <td>2018</td>\n",
       "      <td>2</td>\n",
       "      <td>Jakarta Pusat</td>\n",
       "      <td>Cempaka Putih</td>\n",
       "      <td>1</td>\n",
       "    </tr>\n",
       "    <tr>\n",
       "      <th>2</th>\n",
       "      <td>2018</td>\n",
       "      <td>3</td>\n",
       "      <td>Jakarta Pusat</td>\n",
       "      <td>Cempaka Putih</td>\n",
       "      <td>3</td>\n",
       "    </tr>\n",
       "    <tr>\n",
       "      <th>3</th>\n",
       "      <td>2018</td>\n",
       "      <td>4</td>\n",
       "      <td>Jakarta Pusat</td>\n",
       "      <td>Cempaka Putih</td>\n",
       "      <td>4</td>\n",
       "    </tr>\n",
       "    <tr>\n",
       "      <th>4</th>\n",
       "      <td>2018</td>\n",
       "      <td>5</td>\n",
       "      <td>Jakarta Pusat</td>\n",
       "      <td>Cempaka Putih</td>\n",
       "      <td>3</td>\n",
       "    </tr>\n",
       "  </tbody>\n",
       "</table>\n",
       "</div>"
      ],
      "text/plain": [
       "   tahun  bulan kota_administrasi      kecamatan  penderita_dbd\n",
       "0   2018      1     Jakarta Pusat  Cempaka Putih              3\n",
       "1   2018      2     Jakarta Pusat  Cempaka Putih              1\n",
       "2   2018      3     Jakarta Pusat  Cempaka Putih              3\n",
       "3   2018      4     Jakarta Pusat  Cempaka Putih              4\n",
       "4   2018      5     Jakarta Pusat  Cempaka Putih              3"
      ]
     },
     "execution_count": 1,
     "metadata": {},
     "output_type": "execute_result"
    }
   ],
   "source": [
    "import pandas as pd\n",
    "import numpy as np\n",
    "import seaborn as sns\n",
    "import matplotlib.pyplot as plt\n",
    "\n",
    "%matplotlib inline\n",
    "\n",
    "df = pd.read_csv (r'data jumlah penderita dbd jakarta pusat tahun 2018-2020(RAW_DATA).csv')\n",
    "df.head() #Menampilkan 5 baris pertama dataset"
   ]
  },
  {
   "cell_type": "markdown",
   "id": "drawn-interpretation",
   "metadata": {},
   "source": [
    "### Mengecek Keberadaan data kosong dan jumlahnya tiap kolom"
   ]
  },
  {
   "cell_type": "code",
   "execution_count": 2,
   "id": "corrected-cardiff",
   "metadata": {
    "scrolled": true
   },
   "outputs": [
    {
     "data": {
      "text/plain": [
       "tahun                0\n",
       "bulan                0\n",
       "kota_administrasi    0\n",
       "kecamatan            0\n",
       "penderita_dbd        0\n",
       "dtype: int64"
      ]
     },
     "execution_count": 2,
     "metadata": {},
     "output_type": "execute_result"
    }
   ],
   "source": [
    "df.isna().sum() # mendeteksi keberadaan nilai kosong"
   ]
  },
  {
   "cell_type": "markdown",
   "id": "promotional-generation",
   "metadata": {},
   "source": [
    "### Mengindentifikasi ukuran datatset"
   ]
  },
  {
   "cell_type": "code",
   "execution_count": 3,
   "id": "about-indianapolis",
   "metadata": {},
   "outputs": [
    {
     "data": {
      "text/plain": [
       "(288, 5)"
      ]
     },
     "execution_count": 3,
     "metadata": {},
     "output_type": "execute_result"
    }
   ],
   "source": [
    "df.shape # bentuk/dimensi dataset (baris,kolom)"
   ]
  },
  {
   "cell_type": "markdown",
   "id": "illegal-elizabeth",
   "metadata": {},
   "source": [
    "### Melihat daftar kolom"
   ]
  },
  {
   "cell_type": "code",
   "execution_count": 4,
   "id": "paperback-personality",
   "metadata": {
    "scrolled": true
   },
   "outputs": [
    {
     "data": {
      "text/plain": [
       "Index(['tahun', 'bulan', 'kota_administrasi', 'kecamatan', 'penderita_dbd'], dtype='object')"
      ]
     },
     "execution_count": 4,
     "metadata": {},
     "output_type": "execute_result"
    }
   ],
   "source": [
    "df.columns # daftar nama kolom"
   ]
  },
  {
   "cell_type": "markdown",
   "id": "gross-newark",
   "metadata": {},
   "source": [
    "### Mengidentifikasi tipe data pada tiap kolom"
   ]
  },
  {
   "cell_type": "code",
   "execution_count": 5,
   "id": "sized-screening",
   "metadata": {
    "scrolled": true
   },
   "outputs": [
    {
     "data": {
      "text/plain": [
       "tahun                 int64\n",
       "bulan                 int64\n",
       "kota_administrasi    object\n",
       "kecamatan            object\n",
       "penderita_dbd         int64\n",
       "dtype: object"
      ]
     },
     "execution_count": 5,
     "metadata": {},
     "output_type": "execute_result"
    }
   ],
   "source": [
    "df.dtypes # tipe data untuk tiap kolom"
   ]
  },
  {
   "cell_type": "markdown",
   "id": "champion-mounting",
   "metadata": {},
   "source": [
    "### Mendeksripsikan dataset"
   ]
  },
  {
   "cell_type": "code",
   "execution_count": 6,
   "id": "another-solomon",
   "metadata": {},
   "outputs": [
    {
     "data": {
      "text/html": [
       "<div>\n",
       "<style scoped>\n",
       "    .dataframe tbody tr th:only-of-type {\n",
       "        vertical-align: middle;\n",
       "    }\n",
       "\n",
       "    .dataframe tbody tr th {\n",
       "        vertical-align: top;\n",
       "    }\n",
       "\n",
       "    .dataframe thead th {\n",
       "        text-align: right;\n",
       "    }\n",
       "</style>\n",
       "<table border=\"1\" class=\"dataframe\">\n",
       "  <thead>\n",
       "    <tr style=\"text-align: right;\">\n",
       "      <th></th>\n",
       "      <th>tahun</th>\n",
       "      <th>bulan</th>\n",
       "      <th>penderita_dbd</th>\n",
       "    </tr>\n",
       "  </thead>\n",
       "  <tbody>\n",
       "    <tr>\n",
       "      <th>count</th>\n",
       "      <td>288.000000</td>\n",
       "      <td>288.000000</td>\n",
       "      <td>288.000000</td>\n",
       "    </tr>\n",
       "    <tr>\n",
       "      <th>mean</th>\n",
       "      <td>2019.000000</td>\n",
       "      <td>6.500000</td>\n",
       "      <td>3.381944</td>\n",
       "    </tr>\n",
       "    <tr>\n",
       "      <th>std</th>\n",
       "      <td>0.817918</td>\n",
       "      <td>3.458061</td>\n",
       "      <td>5.479129</td>\n",
       "    </tr>\n",
       "    <tr>\n",
       "      <th>min</th>\n",
       "      <td>2018.000000</td>\n",
       "      <td>1.000000</td>\n",
       "      <td>0.000000</td>\n",
       "    </tr>\n",
       "    <tr>\n",
       "      <th>25%</th>\n",
       "      <td>2018.000000</td>\n",
       "      <td>3.750000</td>\n",
       "      <td>0.000000</td>\n",
       "    </tr>\n",
       "    <tr>\n",
       "      <th>50%</th>\n",
       "      <td>2019.000000</td>\n",
       "      <td>6.500000</td>\n",
       "      <td>1.000000</td>\n",
       "    </tr>\n",
       "    <tr>\n",
       "      <th>75%</th>\n",
       "      <td>2020.000000</td>\n",
       "      <td>9.250000</td>\n",
       "      <td>4.250000</td>\n",
       "    </tr>\n",
       "    <tr>\n",
       "      <th>max</th>\n",
       "      <td>2020.000000</td>\n",
       "      <td>12.000000</td>\n",
       "      <td>31.000000</td>\n",
       "    </tr>\n",
       "  </tbody>\n",
       "</table>\n",
       "</div>"
      ],
      "text/plain": [
       "             tahun       bulan  penderita_dbd\n",
       "count   288.000000  288.000000     288.000000\n",
       "mean   2019.000000    6.500000       3.381944\n",
       "std       0.817918    3.458061       5.479129\n",
       "min    2018.000000    1.000000       0.000000\n",
       "25%    2018.000000    3.750000       0.000000\n",
       "50%    2019.000000    6.500000       1.000000\n",
       "75%    2020.000000    9.250000       4.250000\n",
       "max    2020.000000   12.000000      31.000000"
      ]
     },
     "execution_count": 6,
     "metadata": {},
     "output_type": "execute_result"
    }
   ],
   "source": [
    "df.describe() # deskripsi data"
   ]
  },
  {
   "cell_type": "markdown",
   "id": "operating-plaintiff",
   "metadata": {},
   "source": [
    "### Melihat Korelasi Matrix"
   ]
  },
  {
   "cell_type": "code",
   "execution_count": 7,
   "id": "sublime-outreach",
   "metadata": {
    "scrolled": true
   },
   "outputs": [
    {
     "data": {
      "text/html": [
       "<div>\n",
       "<style scoped>\n",
       "    .dataframe tbody tr th:only-of-type {\n",
       "        vertical-align: middle;\n",
       "    }\n",
       "\n",
       "    .dataframe tbody tr th {\n",
       "        vertical-align: top;\n",
       "    }\n",
       "\n",
       "    .dataframe thead th {\n",
       "        text-align: right;\n",
       "    }\n",
       "</style>\n",
       "<table border=\"1\" class=\"dataframe\">\n",
       "  <thead>\n",
       "    <tr style=\"text-align: right;\">\n",
       "      <th></th>\n",
       "      <th>tahun</th>\n",
       "      <th>bulan</th>\n",
       "      <th>penderita_dbd</th>\n",
       "    </tr>\n",
       "  </thead>\n",
       "  <tbody>\n",
       "    <tr>\n",
       "      <th>tahun</th>\n",
       "      <td>1.000000e+00</td>\n",
       "      <td>1.476990e-14</td>\n",
       "      <td>0.195928</td>\n",
       "    </tr>\n",
       "    <tr>\n",
       "      <th>bulan</th>\n",
       "      <td>1.476990e-14</td>\n",
       "      <td>1.000000e+00</td>\n",
       "      <td>-0.499647</td>\n",
       "    </tr>\n",
       "    <tr>\n",
       "      <th>penderita_dbd</th>\n",
       "      <td>1.959284e-01</td>\n",
       "      <td>-4.996473e-01</td>\n",
       "      <td>1.000000</td>\n",
       "    </tr>\n",
       "  </tbody>\n",
       "</table>\n",
       "</div>"
      ],
      "text/plain": [
       "                      tahun         bulan  penderita_dbd\n",
       "tahun          1.000000e+00  1.476990e-14       0.195928\n",
       "bulan          1.476990e-14  1.000000e+00      -0.499647\n",
       "penderita_dbd  1.959284e-01 -4.996473e-01       1.000000"
      ]
     },
     "execution_count": 7,
     "metadata": {},
     "output_type": "execute_result"
    }
   ],
   "source": [
    "df.corr() # korelasi antar kolom"
   ]
  },
  {
   "cell_type": "markdown",
   "id": "violent-thesaurus",
   "metadata": {},
   "source": [
    "## Visualisasi Data "
   ]
  },
  {
   "cell_type": "markdown",
   "id": "figured-steal",
   "metadata": {},
   "source": [
    "### Import Modules"
   ]
  },
  {
   "cell_type": "code",
   "execution_count": 8,
   "id": "tutorial-jefferson",
   "metadata": {},
   "outputs": [],
   "source": [
    "import matplotlib.pyplot as plt # visualisasi data\n",
    "import seaborn as sns # visualisasi data\n",
    "\n",
    "# output dari visualisasi data akan diarahkan ke notebook\n",
    "%matplotlib inline "
   ]
  },
  {
   "cell_type": "markdown",
   "id": "worldwide-observer",
   "metadata": {},
   "source": [
    "### Pie Chart "
   ]
  },
  {
   "cell_type": "code",
   "execution_count": 9,
   "id": "compliant-gravity",
   "metadata": {
    "scrolled": true
   },
   "outputs": [
    {
     "data": {
      "image/png": "[encoded data removed]",
      "text/plain": [
       "<Figure size 432x288 with 1 Axes>"
      ]
     },
     "metadata": {},
     "output_type": "display_data"
    }
   ],
   "source": [
    "df['kecamatan'].value_counts().plot.pie(autopct='%1.1f%%', labels=None, legend=True)\n",
    "plt.tight_layout()\n",
    "plt.show()"
   ]
  },
  {
   "cell_type": "markdown",
   "id": "hawaiian-backup",
   "metadata": {
    "jupyter": {
     "outputs_hidden": true
    }
   },
   "source": [
    "### Heatmap"
   ]
  },
  {
   "cell_type": "code",
   "execution_count": 10,
   "id": "julian-telescope",
   "metadata": {
    "scrolled": false
   },
   "outputs": [
    {
     "data": {
      "text/plain": [
       "<AxesSubplot:>"
      ]
     },
     "execution_count": 10,
     "metadata": {},
     "output_type": "execute_result"
    },
    {
     "data": {
      "image/png": "[encoded data removed]",
      "text/plain": [
       "<Figure size 432x288 with 2 Axes>"
      ]
     },
     "metadata": {
      "needs_background": "light"
     },
     "output_type": "display_data"
    }
   ],
   "source": [
    "sns.heatmap(data=df.corr())"
   ]
  },
  {
   "cell_type": "markdown",
   "id": "absolute-heavy",
   "metadata": {},
   "source": [
    "### Bar Plot"
   ]
  },
  {
   "cell_type": "code",
   "execution_count": 11,
   "id": "romance-showcase",
   "metadata": {},
   "outputs": [
    {
     "data": {
      "text/plain": [
       "Cempaka Putih    36\n",
       "Gambir           36\n",
       "Johar Baru       36\n",
       "Kemayoran        36\n",
       "Menteng          36\n",
       "Sawah Besar      36\n",
       "Senen            36\n",
       "Tanah Abang      36\n",
       "Name: kecamatan, dtype: int64"
      ]
     },
     "execution_count": 11,
     "metadata": {},
     "output_type": "execute_result"
    }
   ],
   "source": [
    "df['kecamatan'].value_counts() # menghitung jumlah setiap kategori"
   ]
  },
  {
   "cell_type": "code",
   "execution_count": 12,
   "id": "renewable-mission",
   "metadata": {},
   "outputs": [
    {
     "data": {
      "image/png": "[encoded data removed]",
      "text/plain": [
       "<Figure size 432x288 with 1 Axes>"
      ]
     },
     "metadata": {
      "needs_background": "light"
     },
     "output_type": "display_data"
    }
   ],
   "source": [
    "df['kecamatan'].value_counts().plot.barh()\n",
    "plt.tight_layout()\n",
    "plt.show()"
   ]
  },
  {
   "cell_type": "markdown",
   "id": "conceptual-istanbul",
   "metadata": {},
   "source": [
    "### Scatter Plot"
   ]
  },
  {
   "cell_type": "code",
   "execution_count": 13,
   "id": "laden-trading",
   "metadata": {},
   "outputs": [
    {
     "data": {
      "image/png": "[encoded data removed]",
      "text/plain": [
       "<Figure size 432x288 with 1 Axes>"
      ]
     },
     "metadata": {
      "needs_background": "light"
     },
     "output_type": "display_data"
    }
   ],
   "source": [
    "sns.scatterplot(x='bulan', y='penderita_dbd', data=df, hue='kecamatan')\n",
    "plt.tight_layout()"
   ]
  },
  {
   "cell_type": "markdown",
   "id": "waiting-virgin",
   "metadata": {},
   "source": [
    "### Pair Plot"
   ]
  },
  {
   "cell_type": "code",
   "execution_count": 14,
   "id": "qualified-suspension",
   "metadata": {},
   "outputs": [
    {
     "data": {
      "image/png": "[encoded data removed]",
      "text/plain": [
       "<Figure size 651.25x540 with 12 Axes>"
      ]
     },
     "metadata": {
      "needs_background": "light"
     },
     "output_type": "display_data"
    }
   ],
   "source": [
    "sns.pairplot(df, hue='kecamatan', markers='+')\n",
    "plt.tight_layout()"
   ]
  },
  {
   "cell_type": "markdown",
   "id": "classical-lebanon",
   "metadata": {},
   "source": [
    "## Menyiapkan dataset"
   ]
  },
  {
   "cell_type": "markdown",
   "id": "graduate-serve",
   "metadata": {},
   "source": [
    "#### Dataset: Features & Class Label"
   ]
  },
  {
   "cell_type": "code",
   "execution_count": 15,
   "id": "excessive-crystal",
   "metadata": {
    "scrolled": true
   },
   "outputs": [
    {
     "data": {
      "text/html": [
       "<div>\n",
       "<style scoped>\n",
       "    .dataframe tbody tr th:only-of-type {\n",
       "        vertical-align: middle;\n",
       "    }\n",
       "\n",
       "    .dataframe tbody tr th {\n",
       "        vertical-align: top;\n",
       "    }\n",
       "\n",
       "    .dataframe thead th {\n",
       "        text-align: right;\n",
       "    }\n",
       "</style>\n",
       "<table border=\"1\" class=\"dataframe\">\n",
       "  <thead>\n",
       "    <tr style=\"text-align: right;\">\n",
       "      <th></th>\n",
       "      <th>tahun</th>\n",
       "      <th>bulan</th>\n",
       "      <th>penderita_dbd</th>\n",
       "    </tr>\n",
       "  </thead>\n",
       "  <tbody>\n",
       "    <tr>\n",
       "      <th>0</th>\n",
       "      <td>2018</td>\n",
       "      <td>1</td>\n",
       "      <td>3</td>\n",
       "    </tr>\n",
       "    <tr>\n",
       "      <th>1</th>\n",
       "      <td>2018</td>\n",
       "      <td>2</td>\n",
       "      <td>1</td>\n",
       "    </tr>\n",
       "    <tr>\n",
       "      <th>2</th>\n",
       "      <td>2018</td>\n",
       "      <td>3</td>\n",
       "      <td>3</td>\n",
       "    </tr>\n",
       "    <tr>\n",
       "      <th>3</th>\n",
       "      <td>2018</td>\n",
       "      <td>4</td>\n",
       "      <td>4</td>\n",
       "    </tr>\n",
       "    <tr>\n",
       "      <th>4</th>\n",
       "      <td>2018</td>\n",
       "      <td>5</td>\n",
       "      <td>3</td>\n",
       "    </tr>\n",
       "  </tbody>\n",
       "</table>\n",
       "</div>"
      ],
      "text/plain": [
       "   tahun  bulan  penderita_dbd\n",
       "0   2018      1              3\n",
       "1   2018      2              1\n",
       "2   2018      3              3\n",
       "3   2018      4              4\n",
       "4   2018      5              3"
      ]
     },
     "execution_count": 15,
     "metadata": {},
     "output_type": "execute_result"
    }
   ],
   "source": [
    "X = df.drop(columns=['kota_administrasi', 'kecamatan']) # menempatkan features ke dalam variable X\n",
    "X.head() # tampilkan 5 baris pertama"
   ]
  },
  {
   "cell_type": "code",
   "execution_count": 16,
   "id": "engaging-japanese",
   "metadata": {},
   "outputs": [
    {
     "data": {
      "text/plain": [
       "0    Cempaka Putih\n",
       "1    Cempaka Putih\n",
       "2    Cempaka Putih\n",
       "3    Cempaka Putih\n",
       "4    Cempaka Putih\n",
       "Name: kecamatan, dtype: object"
      ]
     },
     "execution_count": 16,
     "metadata": {},
     "output_type": "execute_result"
    }
   ],
   "source": [
    "y = df['kecamatan'] # menempatkan class label (target) ke dalam variabel y\n",
    "y.head() # tampilkan 5 baris pertama"
   ]
  },
  {
   "cell_type": "markdown",
   "id": "emotional-trust",
   "metadata": {},
   "source": [
    "### Memisahkan dataset menjadi training set dan testing set "
   ]
  },
  {
   "cell_type": "markdown",
   "id": "familiar-visiting",
   "metadata": {},
   "source": [
    "#### Import Modules"
   ]
  },
  {
   "cell_type": "code",
   "execution_count": 17,
   "id": "working-characterization",
   "metadata": {},
   "outputs": [],
   "source": [
    "from sklearn.model_selection import train_test_split # pembagi dataset menjadi training dan testing set"
   ]
  },
  {
   "cell_type": "code",
   "execution_count": 18,
   "id": "republican-wichita",
   "metadata": {
    "scrolled": false
   },
   "outputs": [
    {
     "name": "stdout",
     "output_type": "stream",
     "text": [
      "training dataset\n",
      "(201, 3)\n",
      "(201,)\n",
      "\n",
      "testing dataset:\n",
      "(87, 3)\n",
      "(87,)\n"
     ]
    }
   ],
   "source": [
    "# membagi dataset ke dalam training dan testing set\n",
    "X_train, X_test, y_train, y_test = train_test_split(X, y, test_size=0.3, random_state=10)\n",
    "\n",
    "print('training dataset')\n",
    "print(X_train.shape)\n",
    "print(y_train.shape)\n",
    "print()\n",
    "print('testing dataset:')\n",
    "print(X_test.shape)\n",
    "print(y_test.shape)"
   ]
  },
  {
   "cell_type": "markdown",
   "id": "nearby-novelty",
   "metadata": {},
   "source": [
    "## Model Klasifikasi "
   ]
  },
  {
   "cell_type": "markdown",
   "id": "psychological-haiti",
   "metadata": {},
   "source": [
    "#### Support Vector Classifier"
   ]
  },
  {
   "cell_type": "code",
   "execution_count": 19,
   "id": "understanding-homeless",
   "metadata": {},
   "outputs": [],
   "source": [
    "# from sklearn.svm import SVC\n",
    "\n",
    "# model_svc = SVC(gamma='scale')\n",
    "# model_svc.fit(X_train,y_train)\n",
    "# y_pred = model_svc.predict(X_test)"
   ]
  },
  {
   "cell_type": "markdown",
   "id": "gentle-village",
   "metadata": {},
   "source": [
    "#### Decision Tree Classifier"
   ]
  },
  {
   "cell_type": "code",
   "execution_count": 20,
   "id": "forced-quick",
   "metadata": {},
   "outputs": [],
   "source": [
    "# from sklearn.tree import DecisionTreeClassifier\n",
    "\n",
    "# model_dt = DecisionTreeClassifier()\n",
    "# model_dt.fit(X_train,y_train)\n",
    "# y_pred = model_dt.predict(X_test)"
   ]
  },
  {
   "cell_type": "markdown",
   "id": "blessed-torture",
   "metadata": {},
   "source": [
    "## Model Classification"
   ]
  },
  {
   "cell_type": "markdown",
   "id": "traditional-wells",
   "metadata": {},
   "source": [
    "### K Nearest Neighbors"
   ]
  },
  {
   "cell_type": "code",
   "execution_count": 21,
   "id": "southwest-savings",
   "metadata": {},
   "outputs": [],
   "source": [
    "from sklearn.neighbors import KNeighborsClassifier\n",
    "model_knn = KNeighborsClassifier(n_neighbors=3) # konfigurasi algoritma\n",
    "model_knn.fit(X_train,y_train) # training model/classifier\n",
    "y_pred = model_knn.predict(X_test) # melakukan prediksi"
   ]
  },
  {
   "cell_type": "markdown",
   "id": "finished-malaysia",
   "metadata": {},
   "source": [
    "### Logistic Regression"
   ]
  },
  {
   "cell_type": "code",
   "execution_count": 22,
   "id": "imported-tuesday",
   "metadata": {},
   "outputs": [
    {
     "data": {
      "text/plain": [
       "LogisticRegression(max_iter=3000)"
      ]
     },
     "execution_count": 22,
     "metadata": {},
     "output_type": "execute_result"
    }
   ],
   "source": [
    "from sklearn.linear_model import LogisticRegression\n",
    "\n",
    "model_logreg = LogisticRegression(solver='lbfgs', multi_class='auto', max_iter = 3000)\n",
    "model_logreg.fit(X_train,y_train)\n",
    "# y_pred = model_logreg.predict(X_test)"
   ]
  },
  {
   "cell_type": "markdown",
   "id": "essential-bryan",
   "metadata": {},
   "source": [
    "### Random Forest Classifier"
   ]
  },
  {
   "cell_type": "code",
   "execution_count": 23,
   "id": "mysterious-expense",
   "metadata": {},
   "outputs": [
    {
     "data": {
      "text/plain": [
       "RandomForestClassifier()"
      ]
     },
     "execution_count": 23,
     "metadata": {},
     "output_type": "execute_result"
    }
   ],
   "source": [
    "from sklearn.ensemble import RandomForestClassifier\n",
    "\n",
    "model_rf = RandomForestClassifier(n_estimators=100)\n",
    "model_rf.fit(X_train,y_train)\n",
    "# y_pred = model_rf.predict(X_test)"
   ]
  },
  {
   "cell_type": "markdown",
   "id": "fleet-handbook",
   "metadata": {},
   "source": [
    "#### Perbandingan akurasi untuk berbagai model."
   ]
  },
  {
   "cell_type": "code",
   "execution_count": 24,
   "id": "roman-income",
   "metadata": {
    "scrolled": false
   },
   "outputs": [],
   "source": [
    "# models = [model_knn, model_logreg, model_rf]\n",
    "# accuracy_scores = []\n",
    "# for model in models:\n",
    "#     y_pred = model.predict(X_test)\n",
    "#     accuracy = metrics.rand_score(y_test, y_pred)\n",
    "#     accuracy_scores.append(accuracy)\n",
    "    \n",
    "# print(accuracy_scores)"
   ]
  },
  {
   "cell_type": "code",
   "execution_count": 25,
   "id": "civil-brave",
   "metadata": {},
   "outputs": [],
   "source": [
    "# accuracy = pd.DataFrame({'labels':['KNN', 'LogReg', 'SVC', 'DT', 'RF'], 'value':accuracy_scores})\n",
    "# ax = accuracy.plot.barh(x='labels', y='value', legend=False)\n",
    "# plt.title('Perbandingan akurasi untuk berbagai model', fontsize=15, color='r')\n",
    "# plt.ylabel('Models', fontsize=18, color='g')\n",
    "# plt.xlabel('Accuracy Score', fontsize=18, color='g')\n",
    "# plt.tight_layout()\n",
    "# plt.show()"
   ]
  },
  {
   "cell_type": "markdown",
   "id": "persistent-award",
   "metadata": {},
   "source": [
    "## Model Clustering"
   ]
  },
  {
   "cell_type": "code",
   "execution_count": 26,
   "id": "minor-stuart",
   "metadata": {},
   "outputs": [],
   "source": [
    "from sklearn.preprocessing import MinMaxScaler # preprocessing dataset"
   ]
  },
  {
   "cell_type": "code",
   "execution_count": 27,
   "id": "cheap-burke",
   "metadata": {},
   "outputs": [
    {
     "data": {
      "text/plain": [
       "(201, 3)"
      ]
     },
     "execution_count": 27,
     "metadata": {},
     "output_type": "execute_result"
    }
   ],
   "source": [
    "mms = MinMaxScaler()\n",
    "mms.fit(X_train)\n",
    "Xnorm = mms.transform(X_train)\n",
    "Xnorm.shape"
   ]
  },
  {
   "cell_type": "markdown",
   "id": "surprised-productivity",
   "metadata": {},
   "source": [
    "### K Means Clustering"
   ]
  },
  {
   "cell_type": "markdown",
   "id": "supreme-africa",
   "metadata": {},
   "source": [
    "#### Metode Elbow"
   ]
  },
  {
   "cell_type": "code",
   "execution_count": 28,
   "id": "sunset-cursor",
   "metadata": {},
   "outputs": [
    {
     "name": "stderr",
     "output_type": "stream",
     "text": [
      "D:\\anaconda3\\lib\\site-packages\\sklearn\\cluster\\_kmeans.py:1036: UserWarning: KMeans is known to have a memory leak on Windows with MKL, when there are less chunks than available threads. You can avoid it by setting the environment variable OMP_NUM_THREADS=1.\n",
      "  warnings.warn(\n"
     ]
    },
    {
     "data": {
      "image/png": "[encoded data removed]",
      "text/plain": [
       "<Figure size 432x288 with 1 Axes>"
      ]
     },
     "metadata": {
      "needs_background": "light"
     },
     "output_type": "display_data"
    }
   ],
   "source": [
    "from sklearn.cluster import KMeans\n",
    "Sum_of_squared_distances = []\n",
    "for k in range(1,10):\n",
    "    km = KMeans(n_clusters=k, init='k-means++')\n",
    "    km = km.fit(Xnorm)\n",
    "    Sum_of_squared_distances.append(km.inertia_)\n",
    "# Visualisasi hasil metode ke dalam grafik\n",
    "plt.plot(range(1,10), Sum_of_squared_distances, 'bx-') \n",
    "plt.xlabel('k')\n",
    "plt.ylabel('Sum_of_squared_distances')\n",
    "plt.title('Elbow Method For Optimal k')\n",
    "plt.show()"
   ]
  },
  {
   "cell_type": "code",
   "execution_count": 29,
   "id": "swiss-resort",
   "metadata": {},
   "outputs": [
    {
     "data": {
      "image/png": "[encoded data removed]",
      "text/plain": [
       "<Figure size 432x288 with 1 Axes>"
      ]
     },
     "metadata": {
      "needs_background": "light"
     },
     "output_type": "display_data"
    }
   ],
   "source": [
    "plt.scatter(X_test.iloc[:, 0], X_test.iloc[:, 1], s=50);"
   ]
  },
  {
   "cell_type": "code",
   "execution_count": 30,
   "id": "linear-syndrome",
   "metadata": {
    "scrolled": false
   },
   "outputs": [],
   "source": [
    "model_kmeans = KMeans(n_clusters=3)\n",
    "model_kmeans.fit(X_train,y_train)\n",
    "y_pred = model_kmeans.predict(X_test)"
   ]
  },
  {
   "cell_type": "code",
   "execution_count": 31,
   "id": "unavailable-horizontal",
   "metadata": {
    "scrolled": false
   },
   "outputs": [
    {
     "data": {
      "image/png": "[encoded data removed]",
      "text/plain": [
       "<Figure size 432x288 with 1 Axes>"
      ]
     },
     "metadata": {
      "needs_background": "light"
     },
     "output_type": "display_data"
    }
   ],
   "source": [
    "plt.scatter(X_test.iloc[:, 0], X_test.iloc[:, 1], c=y_pred, s=50, cmap='viridis')\n",
    "\n",
    "centers = model_kmeans.cluster_centers_\n",
    "plt.scatter(centers[:, 0], centers[:, 1], c='red', s=200, alpha=0.5);"
   ]
  },
  {
   "cell_type": "markdown",
   "id": "heated-chinese",
   "metadata": {},
   "source": [
    "### Birch"
   ]
  },
  {
   "cell_type": "code",
   "execution_count": 32,
   "id": "polar-product",
   "metadata": {},
   "outputs": [],
   "source": [
    "from sklearn.cluster import Birch\n",
    "model_birch = Birch(n_clusters = 3)\n",
    "model_birch = model_birch.fit(X_train, y_train)\n",
    "y_pred = model_birch.predict(X_test)"
   ]
  },
  {
   "cell_type": "code",
   "execution_count": 33,
   "id": "marine-clinic",
   "metadata": {},
   "outputs": [],
   "source": [
    "# metrics.rand_score(y_test, y_pred)"
   ]
  },
  {
   "cell_type": "code",
   "execution_count": 34,
   "id": "assigned-controversy",
   "metadata": {
    "scrolled": true
   },
   "outputs": [],
   "source": [
    "# metrics.fowlkes_mallows_score(y_test, y_pred) "
   ]
  },
  {
   "cell_type": "code",
   "execution_count": 35,
   "id": "hollywood-juice",
   "metadata": {},
   "outputs": [],
   "source": [
    "# metrics.rand_score(y_test, y_pred)"
   ]
  },
  {
   "cell_type": "code",
   "execution_count": 36,
   "id": "structural-newspaper",
   "metadata": {
    "scrolled": true
   },
   "outputs": [],
   "source": [
    "# metrics.fowlkes_mallows_score(y_test, y_pred) "
   ]
  },
  {
   "cell_type": "markdown",
   "id": "academic-fiction",
   "metadata": {},
   "source": [
    "### Mengukur Tngkat akurasi model "
   ]
  },
  {
   "cell_type": "code",
   "execution_count": 37,
   "id": "furnished-calendar",
   "metadata": {},
   "outputs": [
    {
     "name": "stdout",
     "output_type": "stream",
     "text": [
      "[0.6952686447473937, 0.648757016840417, 0.7888265169740711, 0.5209836941994119, 0.4065757818765036]\n"
     ]
    }
   ],
   "source": [
    "from sklearn import metrics # evaluasi performa model\n",
    "models = [model_knn, model_logreg, model_rf, model_kmeans, model_birch]\n",
    "accuracies = []\n",
    "for model in models:\n",
    "    y_pred = model.predict(X_test)\n",
    "    accuracy = metrics.rand_score(y_test, y_pred)\n",
    "    accuracies.append(accuracy)\n",
    "print(accuracies)"
   ]
  },
  {
   "cell_type": "markdown",
   "id": "champion-cooling",
   "metadata": {},
   "source": [
    "### Dalam bentuk Grafik"
   ]
  },
  {
   "cell_type": "code",
   "execution_count": 38,
   "id": "driven-music",
   "metadata": {},
   "outputs": [
    {
     "data": {
      "image/png": "[encoded data removed]",
      "text/plain": [
       "<Figure size 432x288 with 1 Axes>"
      ]
     },
     "metadata": {
      "needs_background": "light"
     },
     "output_type": "display_data"
    }
   ],
   "source": [
    "accuracy = pd.DataFrame({'labels':['KNN', 'LogReg','RF', 'KMeans', 'Birch'], 'value':accuracies})\n",
    "ax = accuracy.plot.barh(x='labels', y='value', legend=False)\n",
    "plt.title('Perbandingan akurasi untuk berbagai model', fontsize=15, color='r')\n",
    "plt.ylabel('Models', fontsize=18, color='g')\n",
    "plt.xlabel('Tingkat akurasi', fontsize=18, color='g')\n",
    "plt.tight_layout()\n",
    "plt.show()"
   ]
  }
 ],
 "metadata": {
  "kernelspec": {
   "display_name": "Python 3 (ipykernel)",
   "language": "python",
   "name": "python3"
  },
  "language_info": {
   "codemirror_mode": {
    "name": "ipython",
    "version": 3
   },
   "file_extension": ".py",
   "mimetype": "text/x-python",
   "name": "python",
   "nbconvert_exporter": "python",
   "pygments_lexer": "ipython3",
   "version": "3.9.12"
  }
 },
 "nbformat": 4,
 "nbformat_minor": 5
}
